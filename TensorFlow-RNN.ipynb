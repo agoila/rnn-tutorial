{
 "cells": [
  {
   "cell_type": "markdown",
   "metadata": {},
   "source": [
    "# Working with sequences\n",
    "## Introduction to Recurrent Neural Networks (RNNs)"
   ]
  },
  {
   "cell_type": "markdown",
   "metadata": {},
   "source": []
  },
  {
   "cell_type": "markdown",
   "metadata": {},
   "source": [
    "### Why RNNs?"
   ]
  },
  {
   "cell_type": "markdown",
   "metadata": {},
   "source": []
  },
  {
   "cell_type": "markdown",
   "metadata": {},
   "source": []
  },
  {
   "cell_type": "markdown",
   "metadata": {},
   "source": []
  },
  {
   "cell_type": "markdown",
   "metadata": {},
   "source": []
  },
  {
   "cell_type": "markdown",
   "metadata": {},
   "source": [
    "1. Introduction to RNNs.\n",
    "2. Basic diagrams and explanations.\n",
    "3. vanilla RNN architecture and code (on simpsons' text).\n",
    "4. Describe vanishing and exploding gradients problem.\n",
    "5. Introduction to LSTMs.\n",
    "6. Explain the structure of RNN and LSTM cells.\n",
    "7. LSTM architecture code and train on simpsons' text.\n",
    "8. Word embeddings using T-SNE."
   ]
  },
  {
   "cell_type": "markdown",
   "metadata": {},
   "source": [
    "In this tutorial, you'll generate your own Simpsons TV scripts using RNNs. \n",
    "\n",
    "You'll be working with two architectures - vanilla RNNs and LSTMs - to achieve this. Here, a part of the Simpsons dataset of scripts from 27 seasons has been used. The Neural Network you'll build will generate a new TV script for a scene at Moe's Tavern.\n",
    "\n",
    "The data is already provided for you. You'll be using a subset of the original dataset. It consists of only the scenes in Moe's Tavern. This doesn't include other versions of the tavern, like \"Moe's Cavern\", \"Flaming Moe's\", \"Uncle Moe's Family Feed-Bag\", etc."
   ]
  }
 ],
 "metadata": {
  "kernelspec": {
   "display_name": "Python 3",
   "language": "python",
   "name": "python3"
  },
  "language_info": {
   "codemirror_mode": {
    "name": "ipython",
    "version": 3
   },
   "file_extension": ".py",
   "mimetype": "text/x-python",
   "name": "python",
   "nbconvert_exporter": "python",
   "pygments_lexer": "ipython3",
   "version": "3.5.3"
  }
 },
 "nbformat": 4,
 "nbformat_minor": 2
}
